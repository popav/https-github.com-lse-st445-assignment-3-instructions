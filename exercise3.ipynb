{
 "cells": [
  {
   "cell_type": "markdown",
   "metadata": {},
   "source": [
    "# ST445 Managing and Visualizing Data\n",
    "\n",
    "## Week 3 Assignment, MT 2017\n",
    "---\n",
    "**Note: This assignment will be assessed.  Deadline: 5pm, 18 October 2017**\n",
    "\n",
    "### A.  Normalizing data (40 points).\n",
    "\n",
    "This question uses this table:\n",
    "![Not normalized data](http://www.essentialsql.com/wp-content/uploads/2014/06/Intro-Table-Not-Normalized.png)\n",
    "\n",
    "from [the lecture notes](https://github.com/lse-st445/lectures/blob/master/week03/ST445_wk3_lecture.ipynb#normalization-example).  For each answer, please explain as fully as possible, and feel free to use tables or diagrams if you prefer.\n",
    "\n",
    "1\\.  Why does this table violate the first normal form, and what would be required to make it 1NF?"
   ]
  },
  {
   "cell_type": "markdown",
   "metadata": {},
   "source": [
    "This table violates the first normal form because it has information of the same type (customer names) in more than one columns. In order to follow 1NF, the table needs to be transformed from wide format to long format.\n",
    "\n",
    "|  EmployeeID |  SalesPerson    |   SalesOffice|  OfficeNumber|   CustomerName  |\n",
    "| -----------:|:----------------|:------------:|:------------:|:---------------:|\n",
    "| 1003        | Mary Smith      |  Chicago     | 312-555-1212 |  Ford           |\n",
    "| 1003        | Mary Smith      |  Chicago     | 312-555-1212 |  GM             |\n",
    "| 1004        | John Hunt       |  New York    | 212-555-1212 |  Dell           |\n",
    "| 1004        | John Hunt       |  New York    | 212-555-1212 |  HP             |\n",
    "| 1004        | John Hunt       |  New York    | 212-555-1212 |  Apple          |\n",
    "| 1005        | Martin Hap      |  Chicago     | 312-555-1212 |  Boeing         |\n",
    " "
   ]
  },
  {
   "cell_type": "markdown",
   "metadata": {},
   "source": [
    "2\\.  What additional steps would be needed to make the table 2NF, and why?"
   ]
  },
  {
   "cell_type": "markdown",
   "metadata": {},
   "source": [
    "As per the Second Normal Form there must not be any partial dependency of any column on primary key. Here, the 2NF is violated because the information under OfficeNumber does not depend on the primary key {Employee ID, CustomerName}. \n",
    "While the table follows 1NF, it shows inefficient use of space and it violates 2NF. To achieve 2NF, it is useful to split out the CustomerName in a separate table. \n",
    "\n",
    " |  EmployeeID |  SalesPerson    |  SalesOffice   |  OfficeNumber | \n",
    " | -----------:|:----------------|:---------------|:-------------:|\n",
    " | 1003        | Mary Smith      |  Chicago       | 312-555-1212  | \n",
    " | 1004        | John Hunt       |  New York      | 212-555-1212  |\n",
    " | 1005        | Martin Hap      |  Chicago       | 312-555-1212  |\n",
    " \n",
    "      \n",
    " \n",
    " |  EmployeeID |  CustomerName   |   \n",
    " | -----------:|:----------------|\n",
    " | 1003        |  Ford           |\n",
    " | 1003        |  GM             |\n",
    " | 1004        |  Dell           | \n",
    " | 1004        |  HP             |\n",
    " | 1004        |  Apple          |\n",
    " | 1005        |  Boeing         |\n",
    " \n",
    "The data can be normalized further to follow the 3NF by splitting the first table in two separate tables. Based on the 3NF there are no dependencies on non-key attributes. In other words, no column is transitively dependent on the primary key. By splitting out the SalesOffice and OfficeNumber in their own table. This way data will not suffer from insertion, deletion or updating anomalies.\n",
    "\n",
    "| EmployeeID  |  SalesPerson    |   \n",
    "| -----------:|:----------------|\n",
    "| 1003        | Mary Smith      |   \n",
    "| 1004        | John Hunt       |  \n",
    "| 1005        | Martin Hap      |  \n",
    "\n",
    "| EmployeeID  |   SalesOffice   |  OfficeNumber  | \n",
    "| -----------:|:----------------|:---------------|\n",
    "| 1003        |   Chicago       | 312-555-1212   | \n",
    "| 1004        |   New York      | 212-555-1212   |\n",
    "| 1005        |   Chicago       | 312-555-1212   |\n",
    "\n",
    "|  EmployeeID |  CustomerName   |   \n",
    "| -----------:|:----------------|\n",
    "| 1003        |  Ford           |\n",
    "| 1003        |  GM             |\n",
    "| 1004        |  Dell           | \n",
    "| 1004        |  HP             |\n",
    "| 1004        |  Apple          |\n",
    "| 1005        |  Boeing         |"
   ]
  },
  {
   "cell_type": "markdown",
   "metadata": {},
   "source": [
    "3\\.  Why might we not want to normalize data to the fullest extent possible?"
   ]
  },
  {
   "cell_type": "markdown",
   "metadata": {},
   "source": [
    "This data can be further normalized, for instance by splitting out the SalesOffice and OfficeNumber in a separate table.\n",
    "In general, data normalization is helpful because it helps to avoid redundancies, and anomalies with updating, deleting and inserting data. \n",
    "However, from a practical perspective, data normalization has limits. Reading highly normalized data may result in lower performance, as for each row in one table, you have to read all rows in the related tables. \n",
    "\n",
    "Therefore, de-normalized data or data which is not normalized to the fullest extend possible is usually easier to access, yet it takes more space."
   ]
  },
  {
   "cell_type": "markdown",
   "metadata": {},
   "source": [
    "4\\.  In the table below, which of the three normalization rules does this violate, if any, and why?\n",
    "\n",
    "   |  countryID  |  countryName    |   EUmember   |  EUjoindate  |\n",
    "   | -----------:|:----------------|:------------:|:------------:|\n",
    "   | 00001       | France          |  `true`      |  1958-01-01  |\n",
    "   | 00004       | Hungary         |  `true`      |  2004-05-01  |\n",
    "   | 00003       | Serbia          |  `false`     |       `NULL` |\n",
    "   | 00004       | Finland         |  `true`      |  1995-01-01  |\n",
    "   | 00005       | Russia          |  `false`     |       `NULL` |\n",
    "   | 00006       | Ireland, UK     |  `true`      |  1973-01-01  |\n",
    "\n",
    "   Are there any other problems with the table, besides normalization?"
   ]
  },
  {
   "cell_type": "markdown",
   "metadata": {},
   "source": [
    "The table violates 1NF because there is repeating information of the same type in one column (countryName). According to 1NF, each set of column must have a unique value, such that multiple columns cannot be used to fetch the same row.\n",
    "\n",
    "Besides, the countryID is not unique for each countryName, which means that countryID cannot be used as primary key, but countryName can be used as primary key.\n",
    "\n"
   ]
  },
  {
   "cell_type": "markdown",
   "metadata": {},
   "source": [
    "5\\.  What would it take to full (1NF-3NF) normalize this dataset?\n",
    "\n",
    "   Write out these tables, and describe why this meets each of the normal forms.  This is a database of movies watched on NetBricks, a streaming movie service.\n",
    "\n",
    "   | Name           | Address    |   Movies Rented   |  Salutation  | Category |\n",
    "   |:---------------|:-----------|:------------------|:------------:|----------|\n",
    "   | Bob Smith      | 1 Houghton Street    | _Star Wars_, _Inception_ |  Dr.   |  Scifi, Scifi |\n",
    "   | Pry Ministair  | 10 Downing St     |  _Brexit the Movie_      |  Lady  | Tragedy |\n",
    "   | Joe Bloggs     | 8 Myhatt St.      |  _Fast and Furious 6_, _Fast and Furious 7_     | Mr. | Action, Action |\n",
    "\n"
   ]
  },
  {
   "cell_type": "markdown",
   "metadata": {},
   "source": [
    "To follow 1NF we need to split out the information in Movies Rented and Category columns so that there is only one movie name and one category on each row. \n",
    "\n",
    "| Name           | Address    |   Movies Rented   |  Salutation  | Category |\n",
    "|:---------------|:-----------|:------------------|:------------:|----------|\n",
    "| Bob Smith      | 1 Houghton Street    | _Star Wars_ |  Dr.   |  Scifi |\n",
    "| Bob Smith      | 1 Houghton Street    | _Inception_ |  Dr.   |  Scifi |\n",
    "| Pry Ministair  | 10 Downing St     |  _Brexit the Movie_      |  Lady  | Tragedy |\n",
    "| Joe Bloggs     | 8 Myhatt St.      |  _Fast and Furious 6_     | Mr. |  Action |\n",
    "| Joe Bloggs     | 8 Myhatt St.      |  _Fast and Furious 7_     | Mr. | Action |\n",
    "\n",
    "For 2NF normalization we need to split data into two tables to eliminate partial dependencies on the primary key. As data in column Name might not be unique (two people with the same name can live at different addresses and rent different movies). Hence we require both Name and Address to act as primary key.\n",
    "\n",
    "|  ID   | Name           | Address              |    Salutation  | \n",
    "|:-----:|:---------------|:---------------------|:---------------|\n",
    "|  1    | Bob Smith      | 1 Houghton Street    |    Dr.         |\n",
    "|  1    | Bob Smith      | 1 Houghton Street    |    Dr.         |  \n",
    "|  2    | Pry Ministair  | 10 Downing St        |    Lady        |\n",
    "|  3    | Joe Bloggs     | 8 Myhatt St.         |    Mr.         |\n",
    "|  3    | Joe Bloggs     | 8 Myhatt St.         |    Mr.         |\n",
    "\n",
    "|  ID   |   Movies Rented        |   Category |\n",
    "|:------|:-----------------------|:-----------|\n",
    "|  1    |  _Star Wars_           |   Scifi    |\n",
    "|  1    |  _Inception_           |   Scifi    |\n",
    "|  2    |  _Brexit the Movie_    |   Tragedy  |\n",
    "|  3    |  _Fast and Furious 6_  |   Action   |\n",
    "|  3    |  _Fast and Furious 7_  |   Action   |\n",
    "\n",
    "For 3NF we meed to separate Name and Address in their own table and link the other tables to the ID which is the primary key. All other columns depend directly only on the primary key, following the 3NF.\n",
    "\n",
    "|  ID   | Name           | Address          |    \n",
    "|:-----:|:---------------|:-----------------|\n",
    "|  1    | Bob Smith      | 1 Houghton Street| \n",
    "|  2    | Pry Ministair  | 10 Downing St    | \n",
    "|  3    | Joe Bloggs     | 8 Myhatt St.     |\n",
    "\n",
    "|  ID   |    Salutation  | \n",
    "|:-----:|:--------------:|\n",
    "|  1    |    Dr.         |\n",
    "|  2    |    Lady        | \n",
    "|  3    |    Mr.         | \n",
    "   \n",
    "\n",
    "|  ID   |   Movies Rented        |   Category |\n",
    "|:------|:-----------------------|:-----------|\n",
    "|  1    |  _Star Wars_           |   Scifi    |\n",
    "|  1    |  _Inception_           |   Scifi    |\n",
    "|  2    |  _Brexit the Movie_    |   Tragedy  |\n",
    "|  3    |  _Fast and Furious 6_  |   Action   |\n",
    "|  3    |  _Fast and Furious 7_  |   Action   |"
   ]
  },
  {
   "cell_type": "markdown",
   "metadata": {},
   "source": [
    "### B.  Reshaping data (30 points)\n",
    "\n",
    "For this exercise, we will use the **nycflights13** R package, whose tables have been output in `.csv` form [here](nycflights13/).  You may do the following in either R or Python.  Note that this example is developed extensively in [_R for Data Science_](http://r4ds.had.co.nz/relational-data.html).\n",
    "\n",
    "1\\.  Create a subtable of the `flights` data, that departed before 05:53 on 2013-02-28.  How many rows and columns does this subtable have?  \n",
    "\n"
   ]
  },
  {
   "cell_type": "code",
   "execution_count": null,
   "metadata": {
    "collapsed": true
   },
   "outputs": [],
   "source": [
    "library(readr)airports <- read_csv(\"flights.csv\", strings as Factors = FALSE)\n",
    "flights2 <- subset(flights, month == 2 & day == 28 & dep_time < 553)\n",
    "View(flights2) \n",
    "\n",
    "This subtable has 10 rows of data and just as many columns as the original table, flights: 20. \n",
    "nrow(flights2)\n",
    "[1] 10\n",
    "ncol(flights2)\n",
    "[1] 20 "
   ]
  },
  {
   "cell_type": "markdown",
   "metadata": {},
   "source": [
    "2\\.  Merge or join the subtable from a. `airports` data, to produce a result that includes:  \n",
    "   *  Departure time\n",
    "   *  Carrier (two digit code, from `carrier`)\n",
    "   *  Flight number\n",
    "   *  Destination airport name (hint: you will need to get this from the `airports` table)  "
   ]
  },
  {
   "cell_type": "code",
   "execution_count": 2,
   "metadata": {
    "collapsed": true
   },
   "outputs": [],
   "source": [
    "library(readr)airports <- read_csv(\"airports.csv\", strings as Factors = FALSE)\n",
    "flights3 <- subset(flights, select = c(5, 11, 12, 15))\n",
    "airports2 <- subset(airports, select = c(2, 3))\n",
    "colnames(airports2) <- c(\"dest\",\"name\")\n",
    "merge( x = flights3, y = airports2, by = \"dest\", all.x=T) "
   ]
  },
  {
   "cell_type": "markdown",
   "metadata": {},
   "source": [
    "3\\.  For every airline that had flights in the `flights` data compute the average age of the planes it flew from the entire dataset.  Age here will be defined as 2013 minus the `year` variable from the `planes` data.  Hint: This involves a join operation on `tailnum`, but also a grouped mean to compute the age (and subtracting 2013, which you can do before or after the computation of the mean)."
   ]
  },
  {
   "cell_type": "code",
   "execution_count": null,
   "metadata": {
    "collapsed": true
   },
   "outputs": [],
   "source": [
    "library(readr)planes <- read_csv (\"planes.csv\", strings as Factors = FALSE)\n",
    "planes_flights <- merge(x=planes, y=flights, by = \"tailnum\", all.x=T)\n",
    "planes_flights <- within(planes_flights, age <- 2013 - year.x)"
   ]
  },
  {
   "cell_type": "markdown",
   "metadata": {},
   "source": [
    "### C.  Working with SQL.  (30 points)\n",
    "\n",
    "1\\.  Create a relational dataset in SQLite using the `.csv` data found [here](nycflights13/).  Name each table so that it matches the base filenames of the input data.  You can use DB Browser for this, but describe how you did it. If you use SQL commands, include that. You can also use R with the library [RSQLite](https://cran.r-project.org/web/packages/RSQLite/RSQLite.pdf). If you use R, put your codes here.\n",
    "\n",
    "\n"
   ]
  },
  {
   "cell_type": "markdown",
   "metadata": {},
   "source": [
    "Create a new database in DB Browser for SQLite. \n",
    "Import table from csv file for all tables in .csv format in the nycflights13."
   ]
  },
  {
   "cell_type": "markdown",
   "metadata": {},
   "source": [
    "2\\.  Replicate B2 above using an SQL query, including both the command and the output."
   ]
  },
  {
   "cell_type": "markdown",
   "metadata": {},
   "source": [
    "[your answer]"
   ]
  },
  {
   "cell_type": "markdown",
   "metadata": {},
   "source": [
    "3\\.  Replicate B3 above using an SQL query, including both the command and the output.\n",
    "\n",
    "\n"
   ]
  },
  {
   "cell_type": "markdown",
   "metadata": {},
   "source": [
    "[your answer]"
   ]
  }
 ],
 "metadata": {
  "kernelspec": {
   "display_name": "Python 3",
   "language": "python",
   "name": "python3"
  },
  "language_info": {
   "codemirror_mode": {
    "name": "ipython",
    "version": 3
   },
   "file_extension": ".py",
   "mimetype": "text/x-python",
   "name": "python",
   "nbconvert_exporter": "python",
   "pygments_lexer": "ipython3",
   "version": "3.6.2"
  }
 },
 "nbformat": 4,
 "nbformat_minor": 2
}
